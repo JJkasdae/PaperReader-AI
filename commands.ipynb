{
 "cells": [
  {
   "cell_type": "markdown",
   "metadata": {},
   "source": [
    "# PaperReader - AI Project - Command Reference\n",
    "\n",
    "This notebook contains all the important commands used in the personal assistant project for easy reference and execution.\n",
    "\n",
    "---"
   ]
  },
  {
   "cell_type": "markdown",
   "metadata": {},
   "source": [
    "## Table of Contents\n",
    "\n",
    "1. [Virtual Environment Setup](#1-virtual-environment-setup)\n",
    "2. [Fix PowerShell Execution Policy](#2-fix-powershell-execution-policy-bug-if-needed)\n",
    "3. [Export Environment Information](#3-export-environment-information)\n",
    "4. [Environment Variables (.env File)](#4-environment-variables-env-file)\n",
    "5. [Git Commit 规范](#5-git-commit-规范)\n",
    "6. [Notes and Best Practices](#notes-and-best-practices)\n",
    "7. [Quick Command Reference](#quick-command-reference)\n",
    "\n",
    "---"
   ]
  },
  {
   "cell_type": "markdown",
   "metadata": {},
   "source": [
    "## 1. Virtual Environment Setup\n",
    "\n",
    "### Create a virtual environment for the current project"
   ]
  },
  {
   "cell_type": "code",
   "execution_count": null,
   "metadata": {},
   "outputs": [],
   "source": [
    "# create env folder inside the project\n",
    "!conda create --prefix ./venv python=3.11"
   ]
  },
  {
   "cell_type": "markdown",
   "metadata": {},
   "source": [
    "## 2. Fix PowerShell Execution Policy bug if needed\n",
    "\n",
    "\n",
    "### PowerShell Execution Policy (Sometimes, the virtual environment cannot not be activated successfully.)"
   ]
  },
  {
   "cell_type": "code",
   "execution_count": null,
   "metadata": {},
   "outputs": [],
   "source": [
    "# Check current execution policy\n",
    "!Get-ExecutionPolicy"
   ]
  },
  {
   "cell_type": "code",
   "execution_count": null,
   "metadata": {},
   "outputs": [],
   "source": [
    "# Set execution policy to allow script execution\n",
    "!Set-ExecutionPolicy -ExecutionPolicy RemoteSigned -Scope CurrentUser"
   ]
  },
  {
   "cell_type": "markdown",
   "metadata": {},
   "source": [
    "### Virtual Environment Activation"
   ]
  },
  {
   "cell_type": "code",
   "execution_count": null,
   "metadata": {},
   "outputs": [],
   "source": [
    "# Activate virtual environment (PowerShell)\n",
    "# Run this in terminal: .\\venv\\Scripts\\Activate.ps1\n",
    "\n",
    "\n",
    "# Activate virtual environment (Command Prompt)\n",
    "# Run this in terminal: venv\\Scripts\\activate.bat\n",
    "\n",
    "# To activate the venv\n",
    "!conda activate \".\\\\venv\"\n",
    "\n",
    "# To deactivate the venv\n",
    "!conda deactivate\n",
    "\n",
    "\n",
    "print(\"Virtual environment activation commands above - run in terminal\")"
   ]
  },
  {
   "cell_type": "markdown",
   "metadata": {},
   "source": [
    "## 3. Export Environment Information\n",
    "\n",
    "### how to export all dependencies information for the current project"
   ]
  },
  {
   "cell_type": "code",
   "execution_count": null,
   "metadata": {},
   "outputs": [],
   "source": [
    "!conda env export --prefix .\\venv | Out-File -FilePath environment.yml -Encoding utf8"
   ]
  },
  {
   "cell_type": "markdown",
   "metadata": {},
   "source": [
    "## 4. Environment Variables (.env File)\n",
    "\n",
    "### .env File Format Rules\n",
    "\n",
    "The `.env` file uses simple `KEY=VALUE` syntax with specific formatting rules:"
   ]
  },
  {
   "cell_type": "markdown",
   "metadata": {},
   "source": [
    "## 5. Git Commit 规范\n",
    "\n",
    "### 📝 Commit 类型 (常见分类)\n",
    "\n",
    "| 类型 | 描述 | 示例 |\n",
    "|------|------|------|\n",
    "| **feat** | 新功能 | `feat(auth): add JWT authentication support` |\n",
    "| **fix** | 修复 bug | `fix(ui): resolve button alignment issue` |\n",
    "| **docs** | 仅文档更改 | `docs: update API documentation` |\n",
    "| **style** | 代码格式 (空格、分号等，不影响逻辑) | `style: fix indentation in main.py` |\n",
    "| **refactor** | 重构 (不是新功能或修复 bug) | `refactor: simplify user authentication logic` |\n",
    "| **perf** | 性能优化 | `perf: improve database query performance` |\n",
    "| **test** | 增加或修改测试 | `test: add unit tests for user service` |\n",
    "| **chore** | 构建、依赖、脚手架相关 | `chore: update dependencies to latest versions` |\n",
    "\n",
    "### 🎯 Commit 消息模板\n",
    "\n",
    "#### 基本格式\n",
    "```\n",
    "<type>(<scope>): <subject>\n",
    "\n",
    "<body>\n",
    "\n",
    "<footer>\n",
    "```\n",
    "\n",
    "#### 详细说明\n",
    "\n",
    "- **type**: 必需，commit 的类型\n",
    "- **scope**: 可选，影响的范围 (如 auth, ui, api)\n",
    "- **subject**: 必需，简短描述 (50字符以内，首字母小写，结尾不加句号)\n",
    "- **body**: 可选，详细描述 (72字符换行)\n",
    "- **footer**: 可选，关联 issue 或 breaking changes\n",
    "\n",
    "### ✅ 好的 Commit 示例\n",
    "\n",
    "```bash\n",
    "feat(auth): add JWT authentication support\n",
    "\n",
    "fix(ui): resolve button alignment issue\n",
    "\n",
    "The submit button was misaligned on mobile devices\n",
    "due to incorrect CSS flexbox properties.\n",
    "\n",
    "Fixes #123\n",
    "```"
   ]
  },
  {
   "cell_type": "markdown",
   "metadata": {},
   "source": [
    "---\n",
    "\n",
    "## Notes and Best Practices\n",
    "\n",
    "- ✅ Always activate your virtual environment before running commands\n",
    "- 🔐 Keep your API keys secure and never commit them to version control\n",
    "- 📁 Use `.env` files for local development\n",
    "- 🚀 Use environment variables for production deployment\n",
    "- 💾 Regular backup of your `.env` file (without committing to git)\n",
    "- 📝 Update this notebook as you discover new commands\n",
    "- 🔧 Follow .env formatting rules strictly to avoid loading errors\n",
    "- 📋 Follow Git commit conventions for better project history\n",
    "\n",
    "---\n",
    "\n",
    "## Quick Command Reference\n",
    "\n",
    "| Task | Command |\n",
    "|------|--------|\n",
    "| Activate venv | `.\\venv\\Scripts\\Activate.ps1` |\n",
    "| List packages | `conda list` |\n",
    "| Install package | `pip install package_name` |\n",
    "| Remove package | `conda remove package_name` |\n",
    "| Check git status | `git status` |\n",
    "| Git commit with message | `git commit -m \"feat: add new feature\"` |\n",
    "| Git commit template | `git commit` (opens editor) |\n",
    "| Run app | `python src/app.py` |\n",
    "| Test .env loading | `python -c \"from dotenv import load_dotenv; load_dotenv(); print('✓ .env loaded')\"` |"
   ]
  }
 ],
 "metadata": {
  "kernelspec": {
   "display_name": "Python 3",
   "language": "python",
   "name": "python3"
  },
  "language_info": {
   "codemirror_mode": {
    "name": "ipython",
    "version": 3
   },
   "file_extension": ".py",
   "mimetype": "text/x-python",
   "name": "python",
   "nbconvert_exporter": "python",
   "pygments_lexer": "ipython3",
   "version": "3.11.13"
  }
 },
 "nbformat": 4,
 "nbformat_minor": 4
}
